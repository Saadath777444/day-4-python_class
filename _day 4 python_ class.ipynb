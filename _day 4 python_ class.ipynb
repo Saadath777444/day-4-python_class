{
 "cells": [
  {
   "cell_type": "code",
   "execution_count": null,
   "id": "9d927558",
   "metadata": {},
   "outputs": [],
   "source": [
    "introduction to list data type:"
   ]
  },
  {
   "cell_type": "code",
   "execution_count": 1,
   "id": "e2a80c24",
   "metadata": {},
   "outputs": [],
   "source": [
    "students = ['vinoth','ramya','ayesha','sara','david','naveen','ahmad']"
   ]
  },
  {
   "cell_type": "code",
   "execution_count": 2,
   "id": "9f2bcddb",
   "metadata": {},
   "outputs": [
    {
     "name": "stdout",
     "output_type": "stream",
     "text": [
      "['vinoth', 'ramya', 'ayesha', 'sara', 'david', 'naveen', 'ahmad']\n"
     ]
    }
   ],
   "source": [
    "print(students)"
   ]
  },
  {
   "cell_type": "code",
   "execution_count": 3,
   "id": "d0d08cc7",
   "metadata": {},
   "outputs": [
    {
     "data": {
      "text/plain": [
       "list"
      ]
     },
     "execution_count": 3,
     "metadata": {},
     "output_type": "execute_result"
    }
   ],
   "source": [
    "type(students)"
   ]
  },
  {
   "cell_type": "code",
   "execution_count": null,
   "id": "1906302c",
   "metadata": {},
   "outputs": [],
   "source": [
    "introduction to indexing:"
   ]
  },
  {
   "cell_type": "code",
   "execution_count": 4,
   "id": "17841398",
   "metadata": {},
   "outputs": [
    {
     "name": "stdout",
     "output_type": "stream",
     "text": [
      "['vinoth', 'ramya', 'ayesha', 'sara', 'david', 'naveen', 'ahmad']\n"
     ]
    }
   ],
   "source": [
    "print(students)"
   ]
  },
  {
   "cell_type": "code",
   "execution_count": 6,
   "id": "91f85d19",
   "metadata": {},
   "outputs": [
    {
     "name": "stdout",
     "output_type": "stream",
     "text": [
      "Ramya\n"
     ]
    }
   ],
   "source": [
    "print(students[1].title())"
   ]
  },
  {
   "cell_type": "code",
   "execution_count": 7,
   "id": "6ca313ac",
   "metadata": {},
   "outputs": [],
   "source": [
    "students.append('kunal')"
   ]
  },
  {
   "cell_type": "code",
   "execution_count": 8,
   "id": "6b15331c",
   "metadata": {},
   "outputs": [
    {
     "name": "stdout",
     "output_type": "stream",
     "text": [
      "['vinoth', 'ramya', 'ayesha', 'sara', 'david', 'naveen', 'ahmad', 'kunal']\n"
     ]
    }
   ],
   "source": [
    "print(students)"
   ]
  },
  {
   "cell_type": "code",
   "execution_count": 9,
   "id": "d68d3546",
   "metadata": {},
   "outputs": [],
   "source": [
    "students.append('kalyani')"
   ]
  },
  {
   "cell_type": "code",
   "execution_count": 10,
   "id": "608e120d",
   "metadata": {},
   "outputs": [
    {
     "name": "stdout",
     "output_type": "stream",
     "text": [
      "students\n"
     ]
    }
   ],
   "source": [
    "print('students')"
   ]
  },
  {
   "cell_type": "code",
   "execution_count": 11,
   "id": "aeb8c922",
   "metadata": {},
   "outputs": [],
   "source": [
    "students.insert(2,'firdous')"
   ]
  },
  {
   "cell_type": "code",
   "execution_count": 12,
   "id": "e39693a7",
   "metadata": {},
   "outputs": [
    {
     "name": "stdout",
     "output_type": "stream",
     "text": [
      "['vinoth', 'ramya', 'firdous', 'ayesha', 'sara', 'david', 'naveen', 'ahmad', 'kunal', 'kalyani']\n"
     ]
    }
   ],
   "source": [
    "print(students)"
   ]
  },
  {
   "cell_type": "code",
   "execution_count": 13,
   "id": "e894e774",
   "metadata": {},
   "outputs": [
    {
     "name": "stdout",
     "output_type": "stream",
     "text": [
      "Firdous\n"
     ]
    }
   ],
   "source": [
    "print(students[2].title())"
   ]
  },
  {
   "cell_type": "code",
   "execution_count": 14,
   "id": "f376359b",
   "metadata": {},
   "outputs": [
    {
     "name": "stdout",
     "output_type": "stream",
     "text": [
      "['vinoth', 'ramya', 'firdous', 'ayesha', 'sara', 'david', 'naveen', 'ahmad', 'kunal', 'kalyani']\n"
     ]
    }
   ],
   "source": [
    "print(students)"
   ]
  },
  {
   "cell_type": "code",
   "execution_count": 15,
   "id": "c4bccb49",
   "metadata": {},
   "outputs": [],
   "source": [
    "students[0] = 'vani'"
   ]
  },
  {
   "cell_type": "code",
   "execution_count": 16,
   "id": "35bdcbdf",
   "metadata": {},
   "outputs": [
    {
     "name": "stdout",
     "output_type": "stream",
     "text": [
      "['vani', 'ramya', 'firdous', 'ayesha', 'sara', 'david', 'naveen', 'ahmad', 'kunal', 'kalyani']\n"
     ]
    }
   ],
   "source": [
    "print(students)"
   ]
  },
  {
   "cell_type": "code",
   "execution_count": null,
   "id": "1db8a1f9",
   "metadata": {},
   "outputs": [],
   "source": []
  },
  {
   "cell_type": "code",
   "execution_count": null,
   "id": "5ed20585",
   "metadata": {},
   "outputs": [],
   "source": [
    "temporary delete:"
   ]
  },
  {
   "cell_type": "code",
   "execution_count": 17,
   "id": "1360f5ba",
   "metadata": {},
   "outputs": [],
   "source": [
    "x = students.pop()"
   ]
  },
  {
   "cell_type": "code",
   "execution_count": 18,
   "id": "5553acae",
   "metadata": {},
   "outputs": [
    {
     "name": "stdout",
     "output_type": "stream",
     "text": [
      "['vani', 'ramya', 'firdous', 'ayesha', 'sara', 'david', 'naveen', 'ahmad', 'kunal']\n"
     ]
    }
   ],
   "source": [
    "print(students)"
   ]
  },
  {
   "cell_type": "code",
   "execution_count": 19,
   "id": "cb3769c8",
   "metadata": {},
   "outputs": [
    {
     "name": "stdout",
     "output_type": "stream",
     "text": [
      "kalyani\n"
     ]
    }
   ],
   "source": [
    "print(x)\n"
   ]
  },
  {
   "cell_type": "code",
   "execution_count": 20,
   "id": "76e99b14",
   "metadata": {},
   "outputs": [],
   "source": [
    "y = students.pop(1)"
   ]
  },
  {
   "cell_type": "code",
   "execution_count": 21,
   "id": "5e29e51c",
   "metadata": {},
   "outputs": [
    {
     "name": "stdout",
     "output_type": "stream",
     "text": [
      "['vani', 'firdous', 'ayesha', 'sara', 'david', 'naveen', 'ahmad', 'kunal']\n"
     ]
    }
   ],
   "source": [
    "print(students)"
   ]
  },
  {
   "cell_type": "code",
   "execution_count": 22,
   "id": "2217357b",
   "metadata": {},
   "outputs": [
    {
     "name": "stdout",
     "output_type": "stream",
     "text": [
      "ramya\n"
     ]
    }
   ],
   "source": [
    "print(y)"
   ]
  },
  {
   "cell_type": "code",
   "execution_count": 23,
   "id": "98d099c9",
   "metadata": {},
   "outputs": [
    {
     "name": "stdout",
     "output_type": "stream",
     "text": [
      "['vani', 'firdous', 'ayesha', 'sara', 'david', 'naveen', 'ahmad', 'kunal']\n"
     ]
    }
   ],
   "source": [
    "print(students)"
   ]
  },
  {
   "cell_type": "code",
   "execution_count": 24,
   "id": "8a8e5f5b",
   "metadata": {},
   "outputs": [],
   "source": [
    "del students[0]"
   ]
  },
  {
   "cell_type": "code",
   "execution_count": 25,
   "id": "af8899e7",
   "metadata": {},
   "outputs": [
    {
     "name": "stdout",
     "output_type": "stream",
     "text": [
      "['firdous', 'ayesha', 'sara', 'david', 'naveen', 'ahmad', 'kunal']\n"
     ]
    }
   ],
   "source": [
    "print(students)"
   ]
  },
  {
   "cell_type": "code",
   "execution_count": null,
   "id": "a7b3c843",
   "metadata": {},
   "outputs": [],
   "source": []
  }
 ],
 "metadata": {
  "kernelspec": {
   "display_name": "Python 3",
   "language": "python",
   "name": "python3"
  },
  "language_info": {
   "codemirror_mode": {
    "name": "ipython",
    "version": 3
   },
   "file_extension": ".py",
   "mimetype": "text/x-python",
   "name": "python",
   "nbconvert_exporter": "python",
   "pygments_lexer": "ipython3",
   "version": "3.8.8"
  }
 },
 "nbformat": 4,
 "nbformat_minor": 5
}
